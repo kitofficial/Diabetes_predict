{
 "cells": [
  {
   "cell_type": "code",
   "execution_count": 180,
   "metadata": {
    "_active": false,
    "_cell_guid": "67610f18-83ae-28d9-c866-519c8cb1a0cb",
    "_execution_state": "idle",
    "_uuid": "5f929632417d7741183b994ec93ad79c275e016e"
   },
   "outputs": [],
   "source": [
    "import numpy as np\n",
    "import pandas as pd\n",
    "import seaborn as sns\n",
    "from sklearn.preprocessing import StandardScaler\n",
    "\n",
    "\n",
    "from sklearn.neighbors import KNeighborsClassifier\n",
    "from sklearn.ensemble import RandomForestClassifier\n",
    "from sklearn.model_selection import cross_val_score, cross_val_predict\n",
    "from sklearn.svm import SVC\n",
    "from sklearn.metrics import classification_report, confusion_matrix\n",
    "\n",
    "import warnings\n",
    "warnings.filterwarnings('ignore')"
   ]
  },
  {
   "cell_type": "code",
   "execution_count": 181,
   "metadata": {
    "_execution_state": "idle",
    "_uuid": "6f0c6eedef1845f535889f0225dd23738d02fe00"
   },
   "outputs": [
    {
     "data": {
      "text/html": [
       "<div>\n",
       "<style scoped>\n",
       "    .dataframe tbody tr th:only-of-type {\n",
       "        vertical-align: middle;\n",
       "    }\n",
       "\n",
       "    .dataframe tbody tr th {\n",
       "        vertical-align: top;\n",
       "    }\n",
       "\n",
       "    .dataframe thead th {\n",
       "        text-align: right;\n",
       "    }\n",
       "</style>\n",
       "<table border=\"1\" class=\"dataframe\">\n",
       "  <thead>\n",
       "    <tr style=\"text-align: right;\">\n",
       "      <th></th>\n",
       "      <th>Pregnancies</th>\n",
       "      <th>Glucose</th>\n",
       "      <th>BloodPressure</th>\n",
       "      <th>SkinThickness</th>\n",
       "      <th>Insulin</th>\n",
       "      <th>BMI</th>\n",
       "      <th>DiabetesPedigreeFunction</th>\n",
       "      <th>Age</th>\n",
       "      <th>Outcome</th>\n",
       "    </tr>\n",
       "  </thead>\n",
       "  <tbody>\n",
       "    <tr>\n",
       "      <th>0</th>\n",
       "      <td>6</td>\n",
       "      <td>148</td>\n",
       "      <td>72</td>\n",
       "      <td>35</td>\n",
       "      <td>0</td>\n",
       "      <td>33.6</td>\n",
       "      <td>0.627</td>\n",
       "      <td>50</td>\n",
       "      <td>1</td>\n",
       "    </tr>\n",
       "    <tr>\n",
       "      <th>1</th>\n",
       "      <td>1</td>\n",
       "      <td>85</td>\n",
       "      <td>66</td>\n",
       "      <td>29</td>\n",
       "      <td>0</td>\n",
       "      <td>26.6</td>\n",
       "      <td>0.351</td>\n",
       "      <td>31</td>\n",
       "      <td>0</td>\n",
       "    </tr>\n",
       "    <tr>\n",
       "      <th>2</th>\n",
       "      <td>8</td>\n",
       "      <td>183</td>\n",
       "      <td>64</td>\n",
       "      <td>0</td>\n",
       "      <td>0</td>\n",
       "      <td>23.3</td>\n",
       "      <td>0.672</td>\n",
       "      <td>32</td>\n",
       "      <td>1</td>\n",
       "    </tr>\n",
       "    <tr>\n",
       "      <th>3</th>\n",
       "      <td>1</td>\n",
       "      <td>89</td>\n",
       "      <td>66</td>\n",
       "      <td>23</td>\n",
       "      <td>94</td>\n",
       "      <td>28.1</td>\n",
       "      <td>0.167</td>\n",
       "      <td>21</td>\n",
       "      <td>0</td>\n",
       "    </tr>\n",
       "    <tr>\n",
       "      <th>4</th>\n",
       "      <td>0</td>\n",
       "      <td>137</td>\n",
       "      <td>40</td>\n",
       "      <td>35</td>\n",
       "      <td>168</td>\n",
       "      <td>43.1</td>\n",
       "      <td>2.288</td>\n",
       "      <td>33</td>\n",
       "      <td>1</td>\n",
       "    </tr>\n",
       "  </tbody>\n",
       "</table>\n",
       "</div>"
      ],
      "text/plain": [
       "   Pregnancies  Glucose  BloodPressure  SkinThickness  Insulin   BMI  \\\n",
       "0            6      148             72             35        0  33.6   \n",
       "1            1       85             66             29        0  26.6   \n",
       "2            8      183             64              0        0  23.3   \n",
       "3            1       89             66             23       94  28.1   \n",
       "4            0      137             40             35      168  43.1   \n",
       "\n",
       "   DiabetesPedigreeFunction  Age  Outcome  \n",
       "0                     0.627   50        1  \n",
       "1                     0.351   31        0  \n",
       "2                     0.672   32        1  \n",
       "3                     0.167   21        0  \n",
       "4                     2.288   33        1  "
      ]
     },
     "execution_count": 181,
     "metadata": {},
     "output_type": "execute_result"
    }
   ],
   "source": [
    "df = pd.read_csv('diabetes.csv')\n",
    "df.head()"
   ]
  },
  {
   "cell_type": "code",
   "execution_count": 182,
   "metadata": {},
   "outputs": [
    {
     "data": {
      "text/plain": [
       "Pregnancies                 0\n",
       "Glucose                     0\n",
       "BloodPressure               0\n",
       "SkinThickness               0\n",
       "Insulin                     0\n",
       "BMI                         0\n",
       "DiabetesPedigreeFunction    0\n",
       "Age                         0\n",
       "Outcome                     0\n",
       "dtype: int64"
      ]
     },
     "execution_count": 182,
     "metadata": {},
     "output_type": "execute_result"
    }
   ],
   "source": [
    "df.isnull().sum()"
   ]
  },
  {
   "cell_type": "code",
   "execution_count": 183,
   "metadata": {},
   "outputs": [
    {
     "data": {
      "text/html": [
       "<div>\n",
       "<style scoped>\n",
       "    .dataframe tbody tr th:only-of-type {\n",
       "        vertical-align: middle;\n",
       "    }\n",
       "\n",
       "    .dataframe tbody tr th {\n",
       "        vertical-align: top;\n",
       "    }\n",
       "\n",
       "    .dataframe thead th {\n",
       "        text-align: right;\n",
       "    }\n",
       "</style>\n",
       "<table border=\"1\" class=\"dataframe\">\n",
       "  <thead>\n",
       "    <tr style=\"text-align: right;\">\n",
       "      <th></th>\n",
       "      <th>count</th>\n",
       "      <th>mean</th>\n",
       "      <th>std</th>\n",
       "      <th>min</th>\n",
       "      <th>25%</th>\n",
       "      <th>50%</th>\n",
       "      <th>75%</th>\n",
       "      <th>max</th>\n",
       "    </tr>\n",
       "  </thead>\n",
       "  <tbody>\n",
       "    <tr>\n",
       "      <th>Pregnancies</th>\n",
       "      <td>768.0</td>\n",
       "      <td>3.845052</td>\n",
       "      <td>3.369578</td>\n",
       "      <td>0.000</td>\n",
       "      <td>1.00000</td>\n",
       "      <td>3.0000</td>\n",
       "      <td>6.00000</td>\n",
       "      <td>17.00</td>\n",
       "    </tr>\n",
       "    <tr>\n",
       "      <th>Glucose</th>\n",
       "      <td>768.0</td>\n",
       "      <td>120.894531</td>\n",
       "      <td>31.972618</td>\n",
       "      <td>0.000</td>\n",
       "      <td>99.00000</td>\n",
       "      <td>117.0000</td>\n",
       "      <td>140.25000</td>\n",
       "      <td>199.00</td>\n",
       "    </tr>\n",
       "    <tr>\n",
       "      <th>BloodPressure</th>\n",
       "      <td>768.0</td>\n",
       "      <td>69.105469</td>\n",
       "      <td>19.355807</td>\n",
       "      <td>0.000</td>\n",
       "      <td>62.00000</td>\n",
       "      <td>72.0000</td>\n",
       "      <td>80.00000</td>\n",
       "      <td>122.00</td>\n",
       "    </tr>\n",
       "    <tr>\n",
       "      <th>SkinThickness</th>\n",
       "      <td>768.0</td>\n",
       "      <td>20.536458</td>\n",
       "      <td>15.952218</td>\n",
       "      <td>0.000</td>\n",
       "      <td>0.00000</td>\n",
       "      <td>23.0000</td>\n",
       "      <td>32.00000</td>\n",
       "      <td>99.00</td>\n",
       "    </tr>\n",
       "    <tr>\n",
       "      <th>Insulin</th>\n",
       "      <td>768.0</td>\n",
       "      <td>79.799479</td>\n",
       "      <td>115.244002</td>\n",
       "      <td>0.000</td>\n",
       "      <td>0.00000</td>\n",
       "      <td>30.5000</td>\n",
       "      <td>127.25000</td>\n",
       "      <td>846.00</td>\n",
       "    </tr>\n",
       "    <tr>\n",
       "      <th>BMI</th>\n",
       "      <td>768.0</td>\n",
       "      <td>31.992578</td>\n",
       "      <td>7.884160</td>\n",
       "      <td>0.000</td>\n",
       "      <td>27.30000</td>\n",
       "      <td>32.0000</td>\n",
       "      <td>36.60000</td>\n",
       "      <td>67.10</td>\n",
       "    </tr>\n",
       "    <tr>\n",
       "      <th>DiabetesPedigreeFunction</th>\n",
       "      <td>768.0</td>\n",
       "      <td>0.471876</td>\n",
       "      <td>0.331329</td>\n",
       "      <td>0.078</td>\n",
       "      <td>0.24375</td>\n",
       "      <td>0.3725</td>\n",
       "      <td>0.62625</td>\n",
       "      <td>2.42</td>\n",
       "    </tr>\n",
       "    <tr>\n",
       "      <th>Age</th>\n",
       "      <td>768.0</td>\n",
       "      <td>33.240885</td>\n",
       "      <td>11.760232</td>\n",
       "      <td>21.000</td>\n",
       "      <td>24.00000</td>\n",
       "      <td>29.0000</td>\n",
       "      <td>41.00000</td>\n",
       "      <td>81.00</td>\n",
       "    </tr>\n",
       "    <tr>\n",
       "      <th>Outcome</th>\n",
       "      <td>768.0</td>\n",
       "      <td>0.348958</td>\n",
       "      <td>0.476951</td>\n",
       "      <td>0.000</td>\n",
       "      <td>0.00000</td>\n",
       "      <td>0.0000</td>\n",
       "      <td>1.00000</td>\n",
       "      <td>1.00</td>\n",
       "    </tr>\n",
       "  </tbody>\n",
       "</table>\n",
       "</div>"
      ],
      "text/plain": [
       "                          count        mean         std     min       25%  \\\n",
       "Pregnancies               768.0    3.845052    3.369578   0.000   1.00000   \n",
       "Glucose                   768.0  120.894531   31.972618   0.000  99.00000   \n",
       "BloodPressure             768.0   69.105469   19.355807   0.000  62.00000   \n",
       "SkinThickness             768.0   20.536458   15.952218   0.000   0.00000   \n",
       "Insulin                   768.0   79.799479  115.244002   0.000   0.00000   \n",
       "BMI                       768.0   31.992578    7.884160   0.000  27.30000   \n",
       "DiabetesPedigreeFunction  768.0    0.471876    0.331329   0.078   0.24375   \n",
       "Age                       768.0   33.240885   11.760232  21.000  24.00000   \n",
       "Outcome                   768.0    0.348958    0.476951   0.000   0.00000   \n",
       "\n",
       "                               50%        75%     max  \n",
       "Pregnancies                 3.0000    6.00000   17.00  \n",
       "Glucose                   117.0000  140.25000  199.00  \n",
       "BloodPressure              72.0000   80.00000  122.00  \n",
       "SkinThickness              23.0000   32.00000   99.00  \n",
       "Insulin                    30.5000  127.25000  846.00  \n",
       "BMI                        32.0000   36.60000   67.10  \n",
       "DiabetesPedigreeFunction    0.3725    0.62625    2.42  \n",
       "Age                        29.0000   41.00000   81.00  \n",
       "Outcome                     0.0000    1.00000    1.00  "
      ]
     },
     "execution_count": 183,
     "metadata": {},
     "output_type": "execute_result"
    }
   ],
   "source": [
    "df.describe().T"
   ]
  },
  {
   "cell_type": "code",
   "execution_count": 184,
   "metadata": {},
   "outputs": [
    {
     "data": {
      "text/plain": [
       "(768, 9)"
      ]
     },
     "execution_count": 184,
     "metadata": {},
     "output_type": "execute_result"
    }
   ],
   "source": [
    "df.shape"
   ]
  },
  {
   "cell_type": "code",
   "execution_count": 185,
   "metadata": {},
   "outputs": [
    {
     "data": {
      "text/plain": [
       "Pregnancies                   int64\n",
       "Glucose                       int64\n",
       "BloodPressure                 int64\n",
       "SkinThickness                 int64\n",
       "Insulin                       int64\n",
       "BMI                         float64\n",
       "DiabetesPedigreeFunction    float64\n",
       "Age                           int64\n",
       "Outcome                       int64\n",
       "dtype: object"
      ]
     },
     "execution_count": 185,
     "metadata": {},
     "output_type": "execute_result"
    }
   ],
   "source": [
    "df.dtypes"
   ]
  },
  {
   "cell_type": "code",
   "execution_count": 186,
   "metadata": {},
   "outputs": [
    {
     "data": {
      "image/png": "[encoded data removed]",
      "text/plain": [
       "<Figure size 1296x1296 with 9 Axes>"
      ]
     },
     "metadata": {
      "needs_background": "light"
     },
     "output_type": "display_data"
    }
   ],
   "source": [
    "# data distribution of Numerical columns\n",
    "import matplotlib.pyplot as plt\n",
    "df.hist(figsize = (18,18))\n",
    "plt.show()"
   ]
  },
  {
   "cell_type": "markdown",
   "metadata": {},
   "source": [
    "# Creating function for visualization of confusion maytrix"
   ]
  },
  {
   "cell_type": "code",
   "execution_count": 187,
   "metadata": {},
   "outputs": [],
   "source": [
    "\n",
    "##CONFUSION MATRIX FUNCTION\n",
    "def confusionmatrix(y_test,y_predict,x='name of model'):\n",
    "    cm=metrics.confusion_matrix(y_test,y_predict)\n",
    "    plt.figure(figsize=(10,7))\n",
    "    sns.heatmap(cm,annot=True,cbar=False, fmt='g')\n",
    "    plt.xlabel(\"Predicted\")\n",
    "    plt.ylabel(\"Actual\")\n",
    "    plt.title(x)\n",
    "    return [ plt.show()]"
   ]
  },
  {
   "cell_type": "markdown",
   "metadata": {},
   "source": [
    "# Applying models\n",
    "* <b>Splitting data"
   ]
  },
  {
   "cell_type": "code",
   "execution_count": 188,
   "metadata": {
    "_active": false,
    "_cell_guid": "9d4e8dae-2820-cde6-b603-b9d4bdb2acc7",
    "_execution_state": "idle",
    "_uuid": "797cf71e5a2f2a5e93fee78eb4f07e1c0bcc816d"
   },
   "outputs": [],
   "source": [
    "X = df.drop('Outcome', axis=1)\n",
    "X = StandardScaler().fit_transform(X)\n",
    "y = df['Outcome']"
   ]
  },
  {
   "cell_type": "code",
   "execution_count": 189,
   "metadata": {
    "_active": false,
    "_cell_guid": "ee011c74-d139-b96b-28e3-5b19a625f423",
    "_execution_state": "idle",
    "_uuid": "5a9f32468c5b24fb5e021ea6c43531aa3e15e86a"
   },
   "outputs": [],
   "source": [
    "X_train, X_test, y_train, y_test = train_test_split(\n",
    "    X, y, test_size=0.25,stratify = y, random_state=0)"
   ]
  },
  {
   "cell_type": "code",
   "execution_count": 190,
   "metadata": {},
   "outputs": [],
   "source": [
    "# balance the dataset \n",
    "#from imblearn.combine import SMOTETomek\n",
    "#smk = SMOTETomek()\n",
    "#X_train, y_train = smk.fit_sample(X_train, y_train)"
   ]
  },
  {
   "cell_type": "code",
   "execution_count": 191,
   "metadata": {},
   "outputs": [],
   "source": [
    "#print(X_train.shape)\n",
    "#print(y_train.shape)"
   ]
  },
  {
   "cell_type": "code",
   "execution_count": 192,
   "metadata": {},
   "outputs": [],
   "source": [
    "# scaling the features\n",
    "from sklearn.preprocessing import StandardScaler\n",
    "sc = StandardScaler()\n",
    "X_train = sc.fit_transform(X_train)\n",
    "X_test = sc.transform(X_test)"
   ]
  },
  {
   "cell_type": "markdown",
   "metadata": {},
   "source": [
    "# Logistic Regression\n",
    "* <b>Performing grid search"
   ]
  },
  {
   "cell_type": "code",
   "execution_count": 193,
   "metadata": {},
   "outputs": [
    {
     "name": "stdout",
     "output_type": "stream",
     "text": [
      "tuned hpyerparameters :(best parameters)  {'C': 0.1, 'penalty': 'l2'}\n",
      "accuracy : 0.7621899576527527\n"
     ]
    }
   ],
   "source": [
    "# Grid search cross validation\n",
    "from sklearn.model_selection import GridSearchCV\n",
    "from sklearn.linear_model import LogisticRegression\n",
    "grid={\"C\":np.logspace(-3,3,7), \"penalty\":[\"l1\",\"l2\"]}# l1 lasso l2 ridge\n",
    "logreg=LogisticRegression()\n",
    "logreg_cv=GridSearchCV(logreg,grid,cv=10)\n",
    "logreg_cv.fit(X_train,y_train)\n",
    "\n",
    "print(\"tuned hpyerparameters :(best parameters) \",logreg_cv.best_params_)\n",
    "print(\"accuracy :\",logreg_cv.best_score_)"
   ]
  },
  {
   "cell_type": "markdown",
   "metadata": {},
   "source": [
    "<b>Fitting model"
   ]
  },
  {
   "cell_type": "code",
   "execution_count": 201,
   "metadata": {},
   "outputs": [
    {
     "data": {
      "text/plain": [
       "LogisticRegression(C=0.1)"
      ]
     },
     "execution_count": 201,
     "metadata": {},
     "output_type": "execute_result"
    }
   ],
   "source": [
    "logreg = LogisticRegression(C = 0.1, penalty = 'l2')\n",
    "logreg.fit(X_train,y_train)"
   ]
  },
  {
   "cell_type": "code",
   "execution_count": 202,
   "metadata": {},
   "outputs": [
    {
     "name": "stdout",
     "output_type": "stream",
     "text": [
      "Train accuracy for LogisticRegression : 0.7760416666666666\n",
      "Test accuracy for LogisticRegression : 0.7708333333333334\n"
     ]
    }
   ],
   "source": [
    "logreg_train_acc=logreg.score(X_train,y_train)\n",
    "logreg_test_acc=logreg.score(X_test,y_test)\n",
    "\n",
    "print('Train accuracy for LogisticRegression :', logreg.score(X_train,y_train))\n",
    "print('Test accuracy for LogisticRegression :', logreg.score(X_test,y_test))"
   ]
  },
  {
   "cell_type": "code",
   "execution_count": 203,
   "metadata": {},
   "outputs": [],
   "source": [
    "y_pred_logreg = logreg.predict(X_test)"
   ]
  },
  {
   "cell_type": "code",
   "execution_count": 204,
   "metadata": {},
   "outputs": [
    {
     "name": "stdout",
     "output_type": "stream",
     "text": [
      "              precision    recall  f1-score   support\n",
      "\n",
      "           0       0.79      0.89      0.83       125\n",
      "           1       0.73      0.55      0.63        67\n",
      "\n",
      "    accuracy                           0.77       192\n",
      "   macro avg       0.76      0.72      0.73       192\n",
      "weighted avg       0.77      0.77      0.76       192\n",
      "\n"
     ]
    }
   ],
   "source": [
    "from sklearn import metrics\n",
    "print(metrics.classification_report(y_test,y_pred_logreg))"
   ]
  },
  {
   "cell_type": "markdown",
   "metadata": {},
   "source": [
    "### Storing information for ROC CURVE"
   ]
  },
  {
   "cell_type": "code",
   "execution_count": 205,
   "metadata": {},
   "outputs": [],
   "source": [
    "from sklearn.metrics import roc_auc_score\n",
    "from sklearn.metrics import roc_curve\n",
    "roc_auc_logistic_reg=roc_auc_score(y_test,logreg.predict(X_test))\n",
    "fpr1,tpr1,thresholds=roc_curve(y_test,logreg.predict(X_test))\n"
   ]
  },
  {
   "cell_type": "code",
   "execution_count": 206,
   "metadata": {},
   "outputs": [
    {
     "data": {
      "image/png": "[encoded data removed]",
      "text/plain": [
       "<Figure size 720x504 with 1 Axes>"
      ]
     },
     "metadata": {
      "needs_background": "light"
     },
     "output_type": "display_data"
    },
    {
     "data": {
      "text/plain": [
       "[None]"
      ]
     },
     "execution_count": 206,
     "metadata": {},
     "output_type": "execute_result"
    }
   ],
   "source": [
    "# visualization using confusion matrix\n",
    "confusionmatrix(y_test,logreg.predict(X_test),x='Logistic regression')"
   ]
  },
  {
   "cell_type": "markdown",
   "metadata": {},
   "source": [
    "# SVM (SUPPORT VECTOR MACHINE )\n",
    "<b>Performing grid search"
   ]
  },
  {
   "cell_type": "code",
   "execution_count": 207,
   "metadata": {},
   "outputs": [
    {
     "name": "stdout",
     "output_type": "stream",
     "text": [
      "tuned hpyerparameters :(best parameters)  {'C': 1, 'gamma': 0.01, 'kernel': 'rbf'}\n",
      "accuracy : 0.7726255293405928\n"
     ]
    }
   ],
   "source": [
    "from sklearn.svm import SVC\n",
    "# defining parameter range \n",
    "param_grid = [{'C': [0.1, 1, 10, 100, 1000],  \n",
    "              'gamma': [1, 0.1, 0.01, 0.001, 0.0001], \n",
    "              'kernel': ['rbf']},{'C': [0.1, 1, 10, 100, 1000],  \n",
    "              'gamma': [1, 0.1, 0.01, 0.001, 0.0001], \n",
    "              'kernel': ['linear']}]\n",
    "svc = SVC()\n",
    "svc_cv = GridSearchCV(svc, param_grid, scoring='accuracy', cv=10,n_jobs=-1) \n",
    "svc_cv.fit(X_train,y_train)\n",
    "\n",
    "print(\"tuned hpyerparameters :(best parameters) \",svc_cv.best_params_)\n",
    "print(\"accuracy :\",svc_cv.best_score_)"
   ]
  },
  {
   "cell_type": "code",
   "execution_count": 208,
   "metadata": {},
   "outputs": [
    {
     "data": {
      "text/plain": [
       "SVC(C=1, gamma=0.01)"
      ]
     },
     "execution_count": 208,
     "metadata": {},
     "output_type": "execute_result"
    }
   ],
   "source": [
    "svc = SVC(C= 1, gamma= 0.01, kernel= 'rbf')\n",
    "svc.fit(X_train, y_train)"
   ]
  },
  {
   "cell_type": "code",
   "execution_count": 209,
   "metadata": {},
   "outputs": [
    {
     "name": "stdout",
     "output_type": "stream",
     "text": [
      "Train accuracy for SVM: 0.7777777777777778\n",
      "Test accuracy for SVM : 0.7708333333333334\n"
     ]
    }
   ],
   "source": [
    "svm_train_acc=svc.score(X_train,y_train)\n",
    "svm_test_acc=svc.score(X_test,y_test)\n",
    "\n",
    "print('Train accuracy for SVM:', svc.score(X_train,y_train))\n",
    "print('Test accuracy for SVM :', svc.score(X_test,y_test))"
   ]
  },
  {
   "cell_type": "code",
   "execution_count": 210,
   "metadata": {},
   "outputs": [],
   "source": [
    "y_pred_svm = svc.predict(X_test)"
   ]
  },
  {
   "cell_type": "code",
   "execution_count": 211,
   "metadata": {},
   "outputs": [
    {
     "name": "stdout",
     "output_type": "stream",
     "text": [
      "              precision    recall  f1-score   support\n",
      "\n",
      "           0       0.78      0.90      0.84       125\n",
      "           1       0.73      0.54      0.62        67\n",
      "\n",
      "    accuracy                           0.77       192\n",
      "   macro avg       0.76      0.72      0.73       192\n",
      "weighted avg       0.77      0.77      0.76       192\n",
      "\n"
     ]
    }
   ],
   "source": [
    "print(metrics.classification_report(y_test,y_pred_svm))"
   ]
  },
  {
   "cell_type": "markdown",
   "metadata": {},
   "source": [
    "### Storing information for ROC CURVE"
   ]
  },
  {
   "cell_type": "code",
   "execution_count": 212,
   "metadata": {},
   "outputs": [],
   "source": [
    "from sklearn.metrics import roc_auc_score\n",
    "from sklearn.metrics import roc_curve\n",
    "roc_auc_svm_reg=roc_auc_score(y_test,svc.predict(X_test))\n",
    "fpr2,tpr2,thresholds=roc_curve(y_test,svc.predict(X_test))"
   ]
  },
  {
   "cell_type": "code",
   "execution_count": 213,
   "metadata": {},
   "outputs": [
    {
     "data": {
      "image/png": "[encoded data removed]",
      "text/plain": [
       "<Figure size 720x504 with 1 Axes>"
      ]
     },
     "metadata": {
      "needs_background": "light"
     },
     "output_type": "display_data"
    },
    {
     "data": {
      "text/plain": [
       "[None]"
      ]
     },
     "execution_count": 213,
     "metadata": {},
     "output_type": "execute_result"
    }
   ],
   "source": [
    "# visualization using confusion matrix\n",
    "confusionmatrix(y_test,svc.predict(X_test),x='Support vector machine')"
   ]
  },
  {
   "cell_type": "markdown",
   "metadata": {},
   "source": [
    "# Random Forest\n",
    "<b>Performing RandomizedSearchCV\n"
   ]
  },
  {
   "cell_type": "code",
   "execution_count": 214,
   "metadata": {},
   "outputs": [],
   "source": [
    "from sklearn.model_selection import RandomizedSearchCV\n",
    "def hypertuning_rscv(est,p_distr,nbr_iter,X,y):\n",
    "    rdmsearch=RandomizedSearchCV(est,param_distributions=p_distr,n_jobs=-1,n_iter=nbr_iter,cv=9)\n",
    "    rdmsearch.fit(X,y)\n",
    "    ht_params=rdmsearch.best_params_\n",
    "    ht_score=rdmsearch.best_score_\n",
    "    return ht_params, ht_score "
   ]
  },
  {
   "cell_type": "code",
   "execution_count": 215,
   "metadata": {},
   "outputs": [
    {
     "name": "stdout",
     "output_type": "stream",
     "text": [
      "{'n_estimators': 400, 'max_depth': 5, 'criterion': 'entropy', 'bootstrap': False}\n",
      "0.7673611111111112\n"
     ]
    }
   ],
   "source": [
    "from sklearn.ensemble import RandomForestClassifier\n",
    "from scipy.stats import randint\n",
    "est =RandomForestClassifier(n_jobs=-1)\n",
    "rf_p_dist={'max_depth':[3,5,10,None],\n",
    "              'n_estimators':[10,100,200,300,400,500,600,700,800,900,1000],\n",
    "               'criterion':['gini','entropy'],\n",
    "               'bootstrap':[True,False],\n",
    "              }\n",
    "rf_parameters,rf_ht_score=hypertuning_rscv(est,rf_p_dist,40,X_train,y_train)\n",
    "\n",
    "print(rf_parameters)\n",
    "print(rf_ht_score)\n"
   ]
  },
  {
   "cell_type": "code",
   "execution_count": 216,
   "metadata": {},
   "outputs": [
    {
     "data": {
      "text/plain": [
       "RandomForestClassifier(bootstrap=False, criterion='entropy', max_depth=5,\n",
       "                       n_estimators=400)"
      ]
     },
     "execution_count": 216,
     "metadata": {},
     "output_type": "execute_result"
    }
   ],
   "source": [
    "clf=RandomForestClassifier(n_estimators= 400, max_depth= 5, criterion= 'entropy', bootstrap= False)\n",
    "clf.fit(X_train,y_train)"
   ]
  },
  {
   "cell_type": "code",
   "execution_count": 217,
   "metadata": {},
   "outputs": [
    {
     "name": "stdout",
     "output_type": "stream",
     "text": [
      "Train accuracy for Random Forest: 0.8524305555555556\n",
      "Test accuracy for Random Forest : 0.78125\n"
     ]
    }
   ],
   "source": [
    "random_train_acc=clf.score(X_train,y_train)\n",
    "random_test_acc=clf.score(X_test,y_test)\n",
    "print('Train accuracy for Random Forest:', clf.score(X_train,y_train))\n",
    "print('Test accuracy for Random Forest :', clf.score(X_test,y_test))"
   ]
  },
  {
   "cell_type": "code",
   "execution_count": 218,
   "metadata": {},
   "outputs": [],
   "source": [
    "y_pred_rnd = clf.predict(X_test)"
   ]
  },
  {
   "cell_type": "code",
   "execution_count": 219,
   "metadata": {},
   "outputs": [
    {
     "name": "stdout",
     "output_type": "stream",
     "text": [
      "              precision    recall  f1-score   support\n",
      "\n",
      "           0       0.80      0.88      0.84       125\n",
      "           1       0.73      0.60      0.66        67\n",
      "\n",
      "    accuracy                           0.78       192\n",
      "   macro avg       0.77      0.74      0.75       192\n",
      "weighted avg       0.78      0.78      0.78       192\n",
      "\n"
     ]
    }
   ],
   "source": [
    "print(metrics.classification_report(y_test,y_pred_rnd))"
   ]
  },
  {
   "cell_type": "markdown",
   "metadata": {},
   "source": [
    "### Storing information for ROC CURVE"
   ]
  },
  {
   "cell_type": "code",
   "execution_count": 220,
   "metadata": {},
   "outputs": [],
   "source": [
    "from sklearn.metrics import roc_auc_score\n",
    "from sklearn.metrics import roc_curve\n",
    "roc_auc_rnd_reg=roc_auc_score(y_test,clf.predict(X_test))\n",
    "fpr3,tpr3,thresholds=roc_curve(y_test,clf.predict(X_test))"
   ]
  },
  {
   "cell_type": "code",
   "execution_count": 221,
   "metadata": {},
   "outputs": [
    {
     "data": {
      "image/png": "[encoded data removed]",
      "text/plain": [
       "<Figure size 720x504 with 1 Axes>"
      ]
     },
     "metadata": {
      "needs_background": "light"
     },
     "output_type": "display_data"
    },
    {
     "data": {
      "text/plain": [
       "[None]"
      ]
     },
     "execution_count": 221,
     "metadata": {},
     "output_type": "execute_result"
    }
   ],
   "source": [
    "# visualization using confusion matrix\n",
    "confusionmatrix(y_test,clf.predict(X_test),x='Random Forest')"
   ]
  },
  {
   "cell_type": "markdown",
   "metadata": {},
   "source": [
    "# K-NN Method"
   ]
  },
  {
   "cell_type": "code",
   "execution_count": 222,
   "metadata": {},
   "outputs": [
    {
     "data": {
      "text/plain": [
       "array([[72.92],\n",
       "       [70.31],\n",
       "       [75.52],\n",
       "       [75.52],\n",
       "       [75.  ],\n",
       "       [73.44],\n",
       "       [76.04],\n",
       "       [72.92],\n",
       "       [73.44],\n",
       "       [71.88]])"
      ]
     },
     "execution_count": 222,
     "metadata": {},
     "output_type": "execute_result"
    }
   ],
   "source": [
    "from sklearn.neighbors import KNeighborsClassifier\n",
    "acc_train_knn_classifier= np.empty((10, 1))\n",
    "acc_test_knn_classifier= np.empty((10, 1))\n",
    "\n",
    "for i in range(0,10):\n",
    "      knn = KNeighborsClassifier(n_neighbors=i+1)\n",
    "      knn.fit(X_train,y_train)\n",
    "      acc_train_knn_classifier[i,:]=round(knn.score(X_train,y_train) * 100, 2)\n",
    "      acc_test_knn_classifier[i,:]= round(knn.score(X_test,y_test) * 100, 2)\n",
    "    \n",
    "acc_test_knn_classifier"
   ]
  },
  {
   "cell_type": "code",
   "execution_count": 223,
   "metadata": {},
   "outputs": [
    {
     "data": {
      "image/png": "[encoded data removed]",
      "text/plain": [
       "<Figure size 432x288 with 1 Axes>"
      ]
     },
     "metadata": {
      "needs_background": "light"
     },
     "output_type": "display_data"
    }
   ],
   "source": [
    "plt.figure()        \n",
    "l = range(1,11)\n",
    "for j in range(len(l)):     \n",
    "    plt.plot( l, acc_test_knn_classifier)\n",
    "    plt.xlabel('Values of n_neighbors')\n",
    "    plt.ylabel('Accuracy of test data')\n",
    "    plt.title('Variation of accuracy of prediction with different n values in knn method')"
   ]
  },
  {
   "cell_type": "code",
   "execution_count": 224,
   "metadata": {},
   "outputs": [
    {
     "data": {
      "text/plain": [
       "array([7], dtype=int64)"
      ]
     },
     "execution_count": 224,
     "metadata": {},
     "output_type": "execute_result"
    }
   ],
   "source": [
    "maxElement = np.amax(acc_test_knn_classifier)    \n",
    "result = np.where(acc_test_knn_classifier == np.amax(acc_test_knn_classifier))\n",
    "max_accuracy_index=result[0]+1\n",
    "\n",
    "max_accuracy_index"
   ]
  },
  {
   "cell_type": "code",
   "execution_count": 225,
   "metadata": {},
   "outputs": [
    {
     "data": {
      "image/png": "[encoded data removed]",
      "text/plain": [
       "<Figure size 720x504 with 1 Axes>"
      ]
     },
     "metadata": {
      "needs_background": "light"
     },
     "output_type": "display_data"
    },
    {
     "data": {
      "text/plain": [
       "[None]"
      ]
     },
     "execution_count": 225,
     "metadata": {},
     "output_type": "execute_result"
    }
   ],
   "source": [
    "#visualization using confusion matrix for maximum accuracy as it comes at n_neighbors\n",
    "knn =KNeighborsClassifier(n_neighbors=max_accuracy_index[0])\n",
    "knn.fit(X_train,y_train)\n",
    "# visualization using confusion matrix\n",
    "confusionmatrix(y_test,knn.predict(X_test),x='K-NN METHOD')"
   ]
  },
  {
   "cell_type": "code",
   "execution_count": 226,
   "metadata": {},
   "outputs": [],
   "source": [
    "y_pred_knn = knn.predict(X_test)"
   ]
  },
  {
   "cell_type": "code",
   "execution_count": 227,
   "metadata": {},
   "outputs": [
    {
     "name": "stdout",
     "output_type": "stream",
     "text": [
      "              precision    recall  f1-score   support\n",
      "\n",
      "           0       0.78      0.87      0.83       125\n",
      "           1       0.70      0.55      0.62        67\n",
      "\n",
      "    accuracy                           0.76       192\n",
      "   macro avg       0.74      0.71      0.72       192\n",
      "weighted avg       0.75      0.76      0.75       192\n",
      "\n"
     ]
    }
   ],
   "source": [
    "print(metrics.classification_report(y_test,y_pred_knn))"
   ]
  },
  {
   "cell_type": "markdown",
   "metadata": {},
   "source": [
    "### Storing information for ROC CURVE"
   ]
  },
  {
   "cell_type": "code",
   "execution_count": 228,
   "metadata": {},
   "outputs": [],
   "source": [
    "from sklearn.metrics import roc_auc_score\n",
    "from sklearn.metrics import roc_curve\n",
    "roc_auc_KNN_reg=roc_auc_score(y_test,knn.predict(X_test))\n",
    "fpr4,tpr4,thresholds=roc_curve(y_test,knn.predict(X_test))"
   ]
  },
  {
   "cell_type": "markdown",
   "metadata": {},
   "source": [
    "# Plotting roc curves"
   ]
  },
  {
   "cell_type": "code",
   "execution_count": 229,
   "metadata": {},
   "outputs": [
    {
     "data": {
      "image/png": "[encoded data removed]",
      "text/plain": [
       "<Figure size 432x288 with 1 Axes>"
      ]
     },
     "metadata": {
      "needs_background": "light"
     },
     "output_type": "display_data"
    }
   ],
   "source": [
    "import matplotlib.pyplot as plt\n",
    "plt.figure()\n",
    "plt.plot(fpr1,tpr1,Label=\"roc_auc_logistic_reg(area=%0.2f)\" % roc_auc_logistic_reg )\n",
    "plt.plot(fpr2,tpr2,Label=\"roc_auc_svm_reg(area=%0.2f)\" % roc_auc_svm_reg )\n",
    "plt.plot(fpr3,tpr3,Label=\"roc_auc_rnd_reg(area=%0.2f)\" % roc_auc_rnd_reg )\n",
    "plt.plot(fpr4,tpr4,Label=\"roc_auc_KNN_reg(area=%0.2f)\" % roc_auc_KNN_reg )\n",
    "plt.plot([0,1],[0,1],'r--')\n",
    "plt.xlabel('FALSE POSITIVE RATE')\n",
    "plt.ylabel('TRUE POSITIVE RATE')\n",
    "plt.title('RECIEVER OPERATING CHARACTERISTIC')\n",
    "plt.legend(loc=\"lower right\")\n",
    "plt.show()"
   ]
  },
  {
   "cell_type": "markdown",
   "metadata": {},
   "source": [
    "# Machine learning Models evaluation\n"
   ]
  },
  {
   "cell_type": "code",
   "execution_count": 232,
   "metadata": {},
   "outputs": [
    {
     "data": {
      "text/html": [
       "<div>\n",
       "<style scoped>\n",
       "    .dataframe tbody tr th:only-of-type {\n",
       "        vertical-align: middle;\n",
       "    }\n",
       "\n",
       "    .dataframe tbody tr th {\n",
       "        vertical-align: top;\n",
       "    }\n",
       "\n",
       "    .dataframe thead th {\n",
       "        text-align: right;\n",
       "    }\n",
       "</style>\n",
       "<table border=\"1\" class=\"dataframe\">\n",
       "  <thead>\n",
       "    <tr style=\"text-align: right;\">\n",
       "      <th></th>\n",
       "      <th>Model</th>\n",
       "      <th>Score_train</th>\n",
       "      <th>Score_test</th>\n",
       "      <th>Score_diff</th>\n",
       "    </tr>\n",
       "  </thead>\n",
       "  <tbody>\n",
       "    <tr>\n",
       "      <th>0</th>\n",
       "      <td>Logistic Regression</td>\n",
       "      <td>0.776042</td>\n",
       "      <td>0.770833</td>\n",
       "      <td>0.00520833</td>\n",
       "    </tr>\n",
       "    <tr>\n",
       "      <th>1</th>\n",
       "      <td>Support Vector Machines</td>\n",
       "      <td>0.777778</td>\n",
       "      <td>0.770833</td>\n",
       "      <td>0.00694444</td>\n",
       "    </tr>\n",
       "    <tr>\n",
       "      <th>2</th>\n",
       "      <td>Random Forest</td>\n",
       "      <td>0.852431</td>\n",
       "      <td>0.78125</td>\n",
       "      <td>0.0711806</td>\n",
       "    </tr>\n",
       "    <tr>\n",
       "      <th>3</th>\n",
       "      <td>KNN CLASSIFIER</td>\n",
       "      <td>[78.65]</td>\n",
       "      <td>[76.04]</td>\n",
       "      <td>[2.6099999999999994]</td>\n",
       "    </tr>\n",
       "  </tbody>\n",
       "</table>\n",
       "</div>"
      ],
      "text/plain": [
       "                     Model Score_train Score_test            Score_diff\n",
       "0      Logistic Regression    0.776042   0.770833            0.00520833\n",
       "1  Support Vector Machines    0.777778   0.770833            0.00694444\n",
       "2            Random Forest    0.852431    0.78125             0.0711806\n",
       "3           KNN CLASSIFIER     [78.65]    [76.04]  [2.6099999999999994]"
      ]
     },
     "execution_count": 232,
     "metadata": {},
     "output_type": "execute_result"
    }
   ],
   "source": [
    "##Models evaluation\n",
    "models = pd.DataFrame({\n",
    "    'Model': ['Logistic Regression', 'Support Vector Machines', 'Random Forest','KNN CLASSIFIER'],\n",
    "    'Score_train': [logreg_train_acc, svm_train_acc,random_train_acc, acc_train_knn_classifier[6]],\n",
    "    'Score_test': [logreg_test_acc, svm_test_acc,random_test_acc, acc_test_knn_classifier[6]]})\n",
    "\n",
    "models['Score_diff'] = abs(models['Score_train'] - models['Score_test'])\n",
    "models.sort_values(by=['Score_diff'], ascending=True)\n",
    "models"
   ]
  },
  {
   "cell_type": "markdown",
   "metadata": {},
   "source": [
    "# Models evaluation plot"
   ]
  },
  {
   "cell_type": "code",
   "execution_count": 233,
   "metadata": {},
   "outputs": [
    {
     "data": {
      "image/png": "[encoded data removed]",
      "text/plain": [
       "<Figure size 432x288 with 1 Axes>"
      ]
     },
     "metadata": {
      "needs_background": "light"
     },
     "output_type": "display_data"
    }
   ],
   "source": [
    "plt.figure()\n",
    "xx = models['Model']\n",
    "plt.tick_params(labelsize=14)\n",
    "plt.plot(xx, models['Score_diff'], label = 'Score_diff')\n",
    "plt.legend()\n",
    "plt.title('Score difference of 4 popular models for train and test datasets')\n",
    "plt.xlabel('Models')\n",
    "plt.ylabel('Score_diff')\n",
    "plt.xticks(xx, rotation='vertical')\n",
    "plt.show()"
   ]
  },
  {
   "cell_type": "markdown",
   "metadata": {},
   "source": [
    "# Applying Neural networks"
   ]
  },
  {
   "cell_type": "markdown",
   "metadata": {},
   "source": [
    "## Import necessary sklearn and keras packages"
   ]
  },
  {
   "cell_type": "code",
   "execution_count": 264,
   "metadata": {},
   "outputs": [],
   "source": [
    "import keras\n",
    "from keras.models import Sequential\n",
    "from keras.layers import Dense\n",
    "\n",
    "classifier = Sequential()\n",
    "\n",
    "classifier.add(Dense(units= 8, kernel_initializer = 'uniform', activation = 'relu', input_dim = 8))\n",
    "classifier.add(Dense(units= 6, kernel_initializer = 'uniform', activation = 'relu'))\n",
    "classifier.add(Dense(units= 4, kernel_initializer = 'uniform', activation = 'relu'))\n",
    "classifier.add(Dense(units = 1, kernel_initializer = 'uniform', activation = 'sigmoid'))\n",
    "\n",
    "classifier.compile(optimizer = 'adam', loss = 'binary_crossentropy', metrics = ['accuracy'])\n",
    "\n",
    "\n"
   ]
  },
  {
   "cell_type": "code",
   "execution_count": 265,
   "metadata": {},
   "outputs": [
    {
     "name": "stdout",
     "output_type": "stream",
     "text": [
      "Model: \"sequential_55\"\n",
      "_________________________________________________________________\n",
      "Layer (type)                 Output Shape              Param #   \n",
      "=================================================================\n",
      "dense_166 (Dense)            (None, 8)                 72        \n",
      "_________________________________________________________________\n",
      "dense_167 (Dense)            (None, 6)                 54        \n",
      "_________________________________________________________________\n",
      "dense_168 (Dense)            (None, 4)                 28        \n",
      "_________________________________________________________________\n",
      "dense_169 (Dense)            (None, 1)                 5         \n",
      "=================================================================\n",
      "Total params: 159\n",
      "Trainable params: 159\n",
      "Non-trainable params: 0\n",
      "_________________________________________________________________\n"
     ]
    }
   ],
   "source": [
    "classifier.summary()"
   ]
  },
  {
   "cell_type": "code",
   "execution_count": 266,
   "metadata": {},
   "outputs": [
    {
     "name": "stdout",
     "output_type": "stream",
     "text": [
      "Epoch 1/100\n",
      "576/576 [==============================] - 0s 437us/step - loss: 0.6902 - accuracy: 0.6424\n",
      "Epoch 2/100\n",
      "576/576 [==============================] - 0s 94us/step - loss: 0.6823 - accuracy: 0.6510\n",
      "Epoch 3/100\n",
      "576/576 [==============================] - 0s 98us/step - loss: 0.6575 - accuracy: 0.6510\n",
      "Epoch 4/100\n",
      "576/576 [==============================] - 0s 79us/step - loss: 0.5877 - accuracy: 0.6510\n",
      "Epoch 5/100\n",
      "576/576 [==============================] - 0s 85us/step - loss: 0.5389 - accuracy: 0.6510\n",
      "Epoch 6/100\n",
      "576/576 [==============================] - 0s 83us/step - loss: 0.5265 - accuracy: 0.6510\n",
      "Epoch 7/100\n",
      "576/576 [==============================] - 0s 84us/step - loss: 0.5222 - accuracy: 0.6510\n",
      "Epoch 8/100\n",
      "576/576 [==============================] - 0s 87us/step - loss: 0.5192 - accuracy: 0.6510\n",
      "Epoch 9/100\n",
      "576/576 [==============================] - 0s 88us/step - loss: 0.5166 - accuracy: 0.6510\n",
      "Epoch 10/100\n",
      "576/576 [==============================] - 0s 85us/step - loss: 0.5136 - accuracy: 0.6684\n",
      "Epoch 11/100\n",
      "576/576 [==============================] - 0s 85us/step - loss: 0.5117 - accuracy: 0.7795\n",
      "Epoch 12/100\n",
      "576/576 [==============================] - 0s 91us/step - loss: 0.5100 - accuracy: 0.7830\n",
      "Epoch 13/100\n",
      "576/576 [==============================] - 0s 81us/step - loss: 0.5084 - accuracy: 0.7812\n",
      "Epoch 14/100\n",
      "576/576 [==============================] - 0s 81us/step - loss: 0.5067 - accuracy: 0.7743\n",
      "Epoch 15/100\n",
      "576/576 [==============================] - 0s 80us/step - loss: 0.5054 - accuracy: 0.7778\n",
      "Epoch 16/100\n",
      "576/576 [==============================] - 0s 85us/step - loss: 0.5043 - accuracy: 0.7778\n",
      "Epoch 17/100\n",
      "576/576 [==============================] - 0s 85us/step - loss: 0.5027 - accuracy: 0.7778\n",
      "Epoch 18/100\n",
      "576/576 [==============================] - 0s 87us/step - loss: 0.5018 - accuracy: 0.7795\n",
      "Epoch 19/100\n",
      "576/576 [==============================] - 0s 90us/step - loss: 0.4997 - accuracy: 0.7743\n",
      "Epoch 20/100\n",
      "576/576 [==============================] - 0s 99us/step - loss: 0.4984 - accuracy: 0.7778\n",
      "Epoch 21/100\n",
      "576/576 [==============================] - 0s 93us/step - loss: 0.4984 - accuracy: 0.7812\n",
      "Epoch 22/100\n",
      "576/576 [==============================] - 0s 95us/step - loss: 0.4967 - accuracy: 0.7778\n",
      "Epoch 23/100\n",
      "576/576 [==============================] - 0s 97us/step - loss: 0.4955 - accuracy: 0.7760\n",
      "Epoch 24/100\n",
      "576/576 [==============================] - 0s 88us/step - loss: 0.4941 - accuracy: 0.7778\n",
      "Epoch 25/100\n",
      "576/576 [==============================] - 0s 97us/step - loss: 0.4931 - accuracy: 0.7778\n",
      "Epoch 26/100\n",
      "576/576 [==============================] - 0s 93us/step - loss: 0.4928 - accuracy: 0.7778\n",
      "Epoch 27/100\n",
      "576/576 [==============================] - 0s 94us/step - loss: 0.4922 - accuracy: 0.7760\n",
      "Epoch 28/100\n",
      "576/576 [==============================] - 0s 98us/step - loss: 0.4914 - accuracy: 0.7812\n",
      "Epoch 29/100\n",
      "576/576 [==============================] - 0s 85us/step - loss: 0.4902 - accuracy: 0.7726\n",
      "Epoch 30/100\n",
      "576/576 [==============================] - 0s 85us/step - loss: 0.4889 - accuracy: 0.7795\n",
      "Epoch 31/100\n",
      "576/576 [==============================] - 0s 93us/step - loss: 0.4885 - accuracy: 0.7812\n",
      "Epoch 32/100\n",
      "576/576 [==============================] - 0s 91us/step - loss: 0.4872 - accuracy: 0.7795\n",
      "Epoch 33/100\n",
      "576/576 [==============================] - 0s 80us/step - loss: 0.4864 - accuracy: 0.7778\n",
      "Epoch 34/100\n",
      "576/576 [==============================] - 0s 83us/step - loss: 0.4864 - accuracy: 0.7778\n",
      "Epoch 35/100\n",
      "576/576 [==============================] - 0s 74us/step - loss: 0.4849 - accuracy: 0.7812\n",
      "Epoch 36/100\n",
      "576/576 [==============================] - 0s 80us/step - loss: 0.4849 - accuracy: 0.7760\n",
      "Epoch 37/100\n",
      "576/576 [==============================] - 0s 83us/step - loss: 0.4835 - accuracy: 0.7760\n",
      "Epoch 38/100\n",
      "576/576 [==============================] - 0s 85us/step - loss: 0.4824 - accuracy: 0.7778\n",
      "Epoch 39/100\n",
      "576/576 [==============================] - 0s 76us/step - loss: 0.4822 - accuracy: 0.7778\n",
      "Epoch 40/100\n",
      "576/576 [==============================] - 0s 83us/step - loss: 0.4823 - accuracy: 0.7743\n",
      "Epoch 41/100\n",
      "576/576 [==============================] - 0s 78us/step - loss: 0.4806 - accuracy: 0.7778\n",
      "Epoch 42/100\n",
      "576/576 [==============================] - 0s 82us/step - loss: 0.4798 - accuracy: 0.7760\n",
      "Epoch 43/100\n",
      "576/576 [==============================] - 0s 81us/step - loss: 0.4795 - accuracy: 0.7795\n",
      "Epoch 44/100\n",
      "576/576 [==============================] - 0s 81us/step - loss: 0.4794 - accuracy: 0.7743\n",
      "Epoch 45/100\n",
      "576/576 [==============================] - 0s 74us/step - loss: 0.4779 - accuracy: 0.7795\n",
      "Epoch 46/100\n",
      "576/576 [==============================] - 0s 81us/step - loss: 0.4774 - accuracy: 0.7778\n",
      "Epoch 47/100\n",
      "576/576 [==============================] - 0s 84us/step - loss: 0.4767 - accuracy: 0.7795\n",
      "Epoch 48/100\n",
      "576/576 [==============================] - 0s 80us/step - loss: 0.4766 - accuracy: 0.7795\n",
      "Epoch 49/100\n",
      "576/576 [==============================] - 0s 83us/step - loss: 0.4758 - accuracy: 0.7760\n",
      "Epoch 50/100\n",
      "576/576 [==============================] - 0s 81us/step - loss: 0.4752 - accuracy: 0.7795\n",
      "Epoch 51/100\n",
      "576/576 [==============================] - 0s 83us/step - loss: 0.4750 - accuracy: 0.7812\n",
      "Epoch 52/100\n",
      "576/576 [==============================] - 0s 76us/step - loss: 0.4737 - accuracy: 0.7812\n",
      "Epoch 53/100\n",
      "576/576 [==============================] - 0s 85us/step - loss: 0.4732 - accuracy: 0.7778\n",
      "Epoch 54/100\n",
      "576/576 [==============================] - 0s 76us/step - loss: 0.4729 - accuracy: 0.7778\n",
      "Epoch 55/100\n",
      "576/576 [==============================] - 0s 73us/step - loss: 0.4729 - accuracy: 0.7795\n",
      "Epoch 56/100\n",
      "576/576 [==============================] - 0s 76us/step - loss: 0.4718 - accuracy: 0.7795\n",
      "Epoch 57/100\n",
      "576/576 [==============================] - 0s 77us/step - loss: 0.4711 - accuracy: 0.7830\n",
      "Epoch 58/100\n",
      "576/576 [==============================] - 0s 74us/step - loss: 0.4707 - accuracy: 0.7760\n",
      "Epoch 59/100\n",
      "576/576 [==============================] - 0s 76us/step - loss: 0.4707 - accuracy: 0.7778\n",
      "Epoch 60/100\n",
      "576/576 [==============================] - 0s 80us/step - loss: 0.4699 - accuracy: 0.7812\n",
      "Epoch 61/100\n",
      "576/576 [==============================] - 0s 73us/step - loss: 0.4688 - accuracy: 0.7743\n",
      "Epoch 62/100\n",
      "576/576 [==============================] - 0s 78us/step - loss: 0.4685 - accuracy: 0.7743\n",
      "Epoch 63/100\n",
      "576/576 [==============================] - 0s 80us/step - loss: 0.4679 - accuracy: 0.7795\n",
      "Epoch 64/100\n",
      "576/576 [==============================] - 0s 73us/step - loss: 0.4678 - accuracy: 0.7778\n",
      "Epoch 65/100\n",
      "576/576 [==============================] - 0s 76us/step - loss: 0.4684 - accuracy: 0.7795\n",
      "Epoch 66/100\n",
      "576/576 [==============================] - 0s 76us/step - loss: 0.4676 - accuracy: 0.7743\n",
      "Epoch 67/100\n",
      "576/576 [==============================] - 0s 80us/step - loss: 0.4663 - accuracy: 0.7743\n",
      "Epoch 68/100\n",
      "576/576 [==============================] - 0s 80us/step - loss: 0.4675 - accuracy: 0.7708\n",
      "Epoch 69/100\n",
      "576/576 [==============================] - 0s 74us/step - loss: 0.4659 - accuracy: 0.7726\n",
      "Epoch 70/100\n",
      "576/576 [==============================] - 0s 80us/step - loss: 0.4653 - accuracy: 0.7760\n",
      "Epoch 71/100\n",
      "576/576 [==============================] - 0s 74us/step - loss: 0.4650 - accuracy: 0.7760\n",
      "Epoch 72/100\n",
      "576/576 [==============================] - 0s 76us/step - loss: 0.4645 - accuracy: 0.7778\n",
      "Epoch 73/100\n",
      "576/576 [==============================] - 0s 76us/step - loss: 0.4644 - accuracy: 0.7760\n",
      "Epoch 74/100\n",
      "576/576 [==============================] - 0s 79us/step - loss: 0.4642 - accuracy: 0.7778\n",
      "Epoch 75/100\n",
      "576/576 [==============================] - 0s 79us/step - loss: 0.4631 - accuracy: 0.7760\n",
      "Epoch 76/100\n",
      "576/576 [==============================] - 0s 78us/step - loss: 0.4630 - accuracy: 0.7812\n",
      "Epoch 77/100\n",
      "576/576 [==============================] - 0s 80us/step - loss: 0.4627 - accuracy: 0.7760\n",
      "Epoch 78/100\n",
      "576/576 [==============================] - 0s 77us/step - loss: 0.4622 - accuracy: 0.7812\n",
      "Epoch 79/100\n",
      "576/576 [==============================] - 0s 77us/step - loss: 0.4614 - accuracy: 0.7778\n",
      "Epoch 80/100\n"
     ]
    },
    {
     "name": "stdout",
     "output_type": "stream",
     "text": [
      "576/576 [==============================] - 0s 76us/step - loss: 0.4613 - accuracy: 0.7743\n",
      "Epoch 81/100\n",
      "576/576 [==============================] - 0s 77us/step - loss: 0.4622 - accuracy: 0.7778\n",
      "Epoch 82/100\n",
      "576/576 [==============================] - 0s 76us/step - loss: 0.4615 - accuracy: 0.7812\n",
      "Epoch 83/100\n",
      "576/576 [==============================] - 0s 75us/step - loss: 0.4605 - accuracy: 0.7812\n",
      "Epoch 84/100\n",
      "576/576 [==============================] - 0s 75us/step - loss: 0.4597 - accuracy: 0.7830\n",
      "Epoch 85/100\n",
      "576/576 [==============================] - 0s 70us/step - loss: 0.4603 - accuracy: 0.7760\n",
      "Epoch 86/100\n",
      "576/576 [==============================] - 0s 78us/step - loss: 0.4598 - accuracy: 0.7830\n",
      "Epoch 87/100\n",
      "576/576 [==============================] - 0s 73us/step - loss: 0.4593 - accuracy: 0.7830\n",
      "Epoch 88/100\n",
      "576/576 [==============================] - 0s 73us/step - loss: 0.4593 - accuracy: 0.7847\n",
      "Epoch 89/100\n",
      "576/576 [==============================] - 0s 76us/step - loss: 0.4591 - accuracy: 0.7708\n",
      "Epoch 90/100\n",
      "576/576 [==============================] - 0s 71us/step - loss: 0.4584 - accuracy: 0.7830\n",
      "Epoch 91/100\n",
      "576/576 [==============================] - 0s 73us/step - loss: 0.4584 - accuracy: 0.7812\n",
      "Epoch 92/100\n",
      "576/576 [==============================] - 0s 73us/step - loss: 0.4579 - accuracy: 0.7760\n",
      "Epoch 93/100\n",
      "576/576 [==============================] - 0s 76us/step - loss: 0.4584 - accuracy: 0.7882\n",
      "Epoch 94/100\n",
      "576/576 [==============================] - 0s 74us/step - loss: 0.4565 - accuracy: 0.7830\n",
      "Epoch 95/100\n",
      "576/576 [==============================] - 0s 73us/step - loss: 0.4576 - accuracy: 0.7743\n",
      "Epoch 96/100\n",
      "576/576 [==============================] - 0s 76us/step - loss: 0.4570 - accuracy: 0.7795\n",
      "Epoch 97/100\n",
      "576/576 [==============================] - 0s 73us/step - loss: 0.4562 - accuracy: 0.7743\n",
      "Epoch 98/100\n",
      "576/576 [==============================] - 0s 77us/step - loss: 0.4560 - accuracy: 0.7847\n",
      "Epoch 99/100\n",
      "576/576 [==============================] - 0s 76us/step - loss: 0.4564 - accuracy: 0.7830\n",
      "Epoch 100/100\n",
      "576/576 [==============================] - 0s 73us/step - loss: 0.4563 - accuracy: 0.7743\n"
     ]
    }
   ],
   "source": [
    "history = classifier.fit(X_train, y_train, batch_size = 10, epochs = 100)"
   ]
  },
  {
   "cell_type": "code",
   "execution_count": 267,
   "metadata": {},
   "outputs": [
    {
     "data": {
      "image/png": "[encoded data removed]",
      "text/plain": [
       "<Figure size 432x288 with 1 Axes>"
      ]
     },
     "metadata": {
      "needs_background": "light"
     },
     "output_type": "display_data"
    },
    {
     "data": {
      "image/png": "[encoded data removed]",
      "text/plain": [
       "<Figure size 432x288 with 1 Axes>"
      ]
     },
     "metadata": {
      "needs_background": "light"
     },
     "output_type": "display_data"
    }
   ],
   "source": [
    "import matplotlib.pyplot as plt\n",
    "acc = history.history['accuracy']\n",
    "loss = history.history['loss']\n",
    "\n",
    "epochs = range(len(acc))\n",
    "\n",
    "plt.plot(epochs, acc, 'b', label='Training accuracy')\n",
    "plt.title('Training accuracy')\n",
    "\n",
    "plt.figure()\n",
    "\n",
    "plt.plot(epochs, loss, 'b', label='Training Loss')\n",
    "plt.title('Training loss')\n",
    "plt.legend()\n",
    "\n",
    "plt.show()"
   ]
  },
  {
   "cell_type": "code",
   "execution_count": null,
   "metadata": {},
   "outputs": [],
   "source": []
  },
  {
   "cell_type": "code",
   "execution_count": null,
   "metadata": {},
   "outputs": [],
   "source": []
  },
  {
   "cell_type": "code",
   "execution_count": null,
   "metadata": {},
   "outputs": [],
   "source": []
  },
  {
   "cell_type": "code",
   "execution_count": null,
   "metadata": {},
   "outputs": [],
   "source": []
  },
  {
   "cell_type": "code",
   "execution_count": null,
   "metadata": {
    "_execution_state": "idle",
    "_uuid": "ad34ae6d2a8a7926ba41caf16e786752f1a4120c"
   },
   "outputs": [],
   "source": []
  }
 ],
 "metadata": {
  "kernelspec": {
   "display_name": "Python 3",
   "language": "python",
   "name": "python3"
  },
  "language_info": {
   "codemirror_mode": {
    "name": "ipython",
    "version": 3
   },
   "file_extension": ".py",
   "mimetype": "text/x-python",
   "name": "python",
   "nbconvert_exporter": "python",
   "pygments_lexer": "ipython3",
   "version": "3.7.6"
  }
 },
 "nbformat": 4,
 "nbformat_minor": 1
}
